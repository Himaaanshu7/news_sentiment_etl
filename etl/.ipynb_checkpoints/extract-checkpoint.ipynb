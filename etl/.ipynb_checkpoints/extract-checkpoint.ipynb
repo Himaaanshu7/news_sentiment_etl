{
 "cells": [
  {
   "cell_type": "code",
   "execution_count": 3,
   "id": "77c200bd",
   "metadata": {},
   "outputs": [],
   "source": [
    "import requests\n",
    "from bs4 import BeautifulSoup\n",
    "import datetime\n",
    "import pandas as pd\n"
   ]
  },
  {
   "cell_type": "code",
   "execution_count": 6,
   "id": "676a6057",
   "metadata": {},
   "outputs": [],
   "source": [
    "def extract_headlines():\n",
    "    url = \"https://www.reuters.com/world/\"\n",
    "    headers = {\n",
    "        \"User-Agent\": (\n",
    "            \"Mozilla/5.0 (Windows NT 10.0; Win64; x64) \"\n",
    "            \"AppleWebKit/537.36 (KHTML, like Gecko) \"\n",
    "            \"Chrome/114.0.0.0 Safari/537.36\"\n",
    "        ),\n",
    "        \"Accept-Language\": \"en-US,en;q=0.9\",\n",
    "        \"Accept\": \"text/html,application/xhtml+xml,application/xml;q=0.9,*/*;q=0.8\"\n",
    "    }\n",
    "\n",
    "    response = requests.get(url, headers=headers)\n",
    "    if response.status_code != 200:\n",
    "        print(\"Failed to fetch page:\", response.status_code)\n",
    "        return []\n",
    "\n",
    "    soup = BeautifulSoup(response.text, 'html.parser')\n",
    "\n",
    "    # Flexible selector: pick any headline links inside the main news wrapper\n",
    "    articles = soup.select('a[data-testid=\"Heading\"]')\n",
    "\n",
    "    headlines = []\n",
    "    for article in articles:\n",
    "        title = article.get_text(strip=True)\n",
    "        href = article.get('href')\n",
    "        link = f\"https://www.reuters.com{href}\" if href and href.startswith('/') else href\n",
    "        headlines.append({\n",
    "            \"title\": title,\n",
    "            \"url\": link,\n",
    "            \"date\": datetime.datetime.utcnow().isoformat()\n",
    "        })\n",
    "\n",
    "    return headlines\n"
   ]
  },
  {
   "cell_type": "code",
   "execution_count": 7,
   "id": "70489f90",
   "metadata": {},
   "outputs": [
    {
     "data": {
      "text/html": [
       "<div>\n",
       "<style scoped>\n",
       "    .dataframe tbody tr th:only-of-type {\n",
       "        vertical-align: middle;\n",
       "    }\n",
       "\n",
       "    .dataframe tbody tr th {\n",
       "        vertical-align: top;\n",
       "    }\n",
       "\n",
       "    .dataframe thead th {\n",
       "        text-align: right;\n",
       "    }\n",
       "</style>\n",
       "<table border=\"1\" class=\"dataframe\">\n",
       "  <thead>\n",
       "    <tr style=\"text-align: right;\">\n",
       "      <th></th>\n",
       "      <th>title</th>\n",
       "      <th>url</th>\n",
       "      <th>date</th>\n",
       "    </tr>\n",
       "  </thead>\n",
       "  <tbody>\n",
       "    <tr>\n",
       "      <th>0</th>\n",
       "      <td>Sports</td>\n",
       "      <td>https://www.reuters.com/sports/</td>\n",
       "      <td>2025-07-07T01:00:47.674494</td>\n",
       "    </tr>\n",
       "    <tr>\n",
       "      <th>1</th>\n",
       "      <td>Science</td>\n",
       "      <td>https://www.reuters.com/science/</td>\n",
       "      <td>2025-07-07T01:00:47.674494</td>\n",
       "    </tr>\n",
       "    <tr>\n",
       "      <th>2</th>\n",
       "      <td>Lifestyle</td>\n",
       "      <td>https://www.reuters.com/lifestyle/</td>\n",
       "      <td>2025-07-07T01:00:47.674494</td>\n",
       "    </tr>\n",
       "    <tr>\n",
       "      <th>3</th>\n",
       "      <td>Graphics</td>\n",
       "      <td>https://www.reuters.com/graphics/</td>\n",
       "      <td>2025-07-07T01:00:47.674494</td>\n",
       "    </tr>\n",
       "    <tr>\n",
       "      <th>4</th>\n",
       "      <td>Pictures</td>\n",
       "      <td>https://www.reuters.com/pictures/</td>\n",
       "      <td>2025-07-07T01:00:47.674494</td>\n",
       "    </tr>\n",
       "  </tbody>\n",
       "</table>\n",
       "</div>"
      ],
      "text/plain": [
       "       title                                 url                        date\n",
       "0     Sports     https://www.reuters.com/sports/  2025-07-07T01:00:47.674494\n",
       "1    Science    https://www.reuters.com/science/  2025-07-07T01:00:47.674494\n",
       "2  Lifestyle  https://www.reuters.com/lifestyle/  2025-07-07T01:00:47.674494\n",
       "3   Graphics   https://www.reuters.com/graphics/  2025-07-07T01:00:47.674494\n",
       "4   Pictures   https://www.reuters.com/pictures/  2025-07-07T01:00:47.674494"
      ]
     },
     "execution_count": 7,
     "metadata": {},
     "output_type": "execute_result"
    }
   ],
   "source": [
    "headlines = extract_headlines()\n",
    "df = pd.DataFrame(headlines)\n",
    "df.head()\n"
   ]
  },
  {
   "cell_type": "code",
   "execution_count": 8,
   "id": "c11d6bfe",
   "metadata": {},
   "outputs": [
    {
     "name": "stdout",
     "output_type": "stream",
     "text": [
      "Saved extracted headlines to data/headlines_raw.csv\n"
     ]
    }
   ],
   "source": [
    "df.to_csv(\"../data/headlines_raw.csv\", index=False)\n",
    "print(\"Saved extracted headlines to data/headlines_raw.csv\")\n"
   ]
  },
  {
   "cell_type": "code",
   "execution_count": null,
   "id": "2cf70c95",
   "metadata": {},
   "outputs": [],
   "source": []
  }
 ],
 "metadata": {
  "kernelspec": {
   "display_name": "Python 3 (ipykernel)",
   "language": "python",
   "name": "python3"
  },
  "language_info": {
   "codemirror_mode": {
    "name": "ipython",
    "version": 3
   },
   "file_extension": ".py",
   "mimetype": "text/x-python",
   "name": "python",
   "nbconvert_exporter": "python",
   "pygments_lexer": "ipython3",
   "version": "3.9.7"
  }
 },
 "nbformat": 4,
 "nbformat_minor": 5
}
