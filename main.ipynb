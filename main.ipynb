{
 "cells": [
  {
   "cell_type": "code",
   "execution_count": 1,
   "id": "5b50424a",
   "metadata": {},
   "outputs": [
    {
     "name": "stderr",
     "output_type": "stream",
     "text": [
      "[nltk_data] Downloading package stopwords to\n",
      "[nltk_data]     C:\\Users\\himan\\AppData\\Roaming\\nltk_data...\n",
      "[nltk_data]   Package stopwords is already up-to-date!\n"
     ]
    },
    {
     "name": "stdout",
     "output_type": "stream",
     "text": [
      "🚀 Starting ETL pipeline\n",
      "✅ Saved 31 headlines to data\\headlines_raw.csv\n",
      "✅ Extracted 31 headlines\n",
      "✅ Transformed data saved to data/headlines_transformed.csv\n",
      "✅ Transformed headlines\n",
      "✅ Successfully inserted 31 rows into MySQL.\n",
      "✅ Data successfully loaded into MySQL\n",
      "🎉 ETL pipeline completed!\n"
     ]
    }
   ],
   "source": [
    "import sys\n",
    "import os\n",
    "\n",
    "# Add the etl directory to the path\n",
    "sys.path.append(os.path.abspath(\"etl\"))\n",
    "\n",
    "from extract import extract_headlines\n",
    "from transform import transform_headlines\n",
    "from load import load_to_mysql\n",
    "\n",
    "if __name__ == \"__main__\":\n",
    "    print(\"🚀 Starting ETL pipeline\")\n",
    "\n",
    "    # Extract\n",
    "    raw_df = extract_headlines()\n",
    "    print(f\"✅ Extracted {len(raw_df)} headlines\")\n",
    "\n",
    "    # Transform\n",
    "    transformed_df = transform_headlines(raw_df)\n",
    "    print(f\"✅ Transformed headlines\")\n",
    "\n",
    "    # Load\n",
    "    load_to_mysql(transformed_df)\n",
    "    print(\"✅ Data successfully loaded into MySQL\")\n",
    "\n",
    "    print(\"🎉 ETL pipeline completed!\")\n"
   ]
  },
  {
   "cell_type": "code",
   "execution_count": null,
   "id": "57bdcfcf",
   "metadata": {},
   "outputs": [],
   "source": []
  },
  {
   "cell_type": "code",
   "execution_count": null,
   "id": "a895e53d",
   "metadata": {},
   "outputs": [],
   "source": []
  }
 ],
 "metadata": {
  "kernelspec": {
   "display_name": "Python 3 (ipykernel)",
   "language": "python",
   "name": "python3"
  },
  "language_info": {
   "codemirror_mode": {
    "name": "ipython",
    "version": 3
   },
   "file_extension": ".py",
   "mimetype": "text/x-python",
   "name": "python",
   "nbconvert_exporter": "python",
   "pygments_lexer": "ipython3",
   "version": "3.9.7"
  }
 },
 "nbformat": 4,
 "nbformat_minor": 5
}
